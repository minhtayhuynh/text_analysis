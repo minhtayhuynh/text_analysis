{
 "cells": [
  {
   "cell_type": "code",
   "execution_count": 1,
   "id": "8c0aaece",
   "metadata": {},
   "outputs": [],
   "source": [
    "import sys\n",
    "import csv\n",
    "from selenium import webdriver\n",
    "from selenium.webdriver.common.by import By\n",
    "from selenium.webdriver.support.ui import WebDriverWait\n",
    "#from selenium.webdriver.support import expected_conditions as ec\n",
    "import time\n",
    "from random import randint\n",
    "from time import sleep\n",
    "import urllib, csv, os, datetime, urllib.request, re, sys\n",
    "\n",
    "driver = webdriver.Firefox(executable_path=\"C:\\\\Users\\\\Minh Tay HUYNH\\\\Downloads\\\\geckodriver\\\\geckodriver.exe\")\n",
    "wait = WebDriverWait(driver, 5)"
   ]
  },
  {
   "cell_type": "code",
   "execution_count": 2,
   "id": "e758cf40",
   "metadata": {},
   "outputs": [],
   "source": [
    "# default path to file to store data\n",
    "#path_to_file = \"C:\\\\Users\\\\Minh Tay HUYNH\\\\Desktop\\\\ANALYSIS OF NEGATIVE REVIEWS\\\\A SCRAPE FOLDER\\\\output\\\\reviews.csv\"\n",
    "path_to_file = \"C:\\\\Users\\\\Minh Tay HUYNH\\\\Desktop\\\\ANALYSIS OF NEGATIVE REVIEWS\\\\A SCRAPE FOLDER\\\\output\\\\datapalace.csv\"\n"
   ]
  },
  {
   "cell_type": "code",
   "execution_count": 3,
   "id": "5e432d72",
   "metadata": {},
   "outputs": [],
   "source": [
    "# default number of scraped pages\n",
    "num_page = 5"
   ]
  },
  {
   "cell_type": "code",
   "execution_count": 4,
   "id": "413a193a",
   "metadata": {},
   "outputs": [],
   "source": [
    "# default tripadvisor website of attractions\n",
    "url = \"https://www.tripadvisor.com/Attraction_Review-g187890-d195308-Reviews-Norman_Palace-Palermo_Province_of_Palermo_Sicily.html\""
   ]
  },
  {
   "cell_type": "code",
   "execution_count": 5,
   "id": "aeff49ea",
   "metadata": {
    "scrolled": true
   },
   "outputs": [],
   "source": [
    "driver.get(url)"
   ]
  },
  {
   "cell_type": "code",
   "execution_count": 6,
   "id": "8d29ae6d",
   "metadata": {},
   "outputs": [
    {
     "data": {
      "text/plain": [
       "43"
      ]
     },
     "execution_count": 6,
     "metadata": {},
     "output_type": "execute_result"
    }
   ],
   "source": [
    "csvFile = open(path_to_file, 'a', newline='', encoding=\"utf-8\")\n",
    "csvWriter = csv.writer(csvFile)\n",
    "csvWriter.writerow(['date', 'author', 'rating', 'title','review', 'visitdate']) "
   ]
  },
  {
   "cell_type": "code",
   "execution_count": 7,
   "id": "63b29f24",
   "metadata": {},
   "outputs": [],
   "source": [
    "import selenium.common.exceptions as selexcept"
   ]
  },
  {
   "cell_type": "code",
   "execution_count": 8,
   "id": "ece95530",
   "metadata": {
    "scrolled": true
   },
   "outputs": [
    {
     "data": {
      "text/plain": [
       "selenium.common.exceptions.NoSuchElementException"
      ]
     },
     "execution_count": 8,
     "metadata": {},
     "output_type": "execute_result"
    }
   ],
   "source": [
    "selexcept.NoSuchElementException"
   ]
  },
  {
   "cell_type": "code",
   "execution_count": 9,
   "id": "88094a87",
   "metadata": {},
   "outputs": [
    {
     "ename": "ElementNotInteractableException",
     "evalue": "Message: Element <span class=\"WlYyy cacGK Wb\"> could not be scrolled into view\n",
     "output_type": "error",
     "traceback": [
      "\u001b[1;31m---------------------------------------------------------------------------\u001b[0m",
      "\u001b[1;31mElementNotInteractableException\u001b[0m           Traceback (most recent call last)",
      "\u001b[1;32m<ipython-input-9-b5ce7fd69397>\u001b[0m in \u001b[0;36m<module>\u001b[1;34m\u001b[0m\n\u001b[0;32m      7\u001b[0m     \u001b[1;31m#driver.find_element_by_xpath(\".//button[(@class=\"bfQwA _G B- _S _T c G_ P0 ddFHE cnvzr\")]).click()\u001b[0m\u001b[1;33m\u001b[0m\u001b[1;33m\u001b[0m\u001b[1;33m\u001b[0m\u001b[0m\n\u001b[0;32m      8\u001b[0m     \u001b[1;31m#driver.find_element_by_xpath(\".//span[contains(@class=\"WlYyy cacGK Wb\")]\").click()\u001b[0m\u001b[1;33m\u001b[0m\u001b[1;33m\u001b[0m\u001b[1;33m\u001b[0m\u001b[0m\n\u001b[1;32m----> 9\u001b[1;33m     \u001b[0mdriver\u001b[0m\u001b[1;33m.\u001b[0m\u001b[0mfind_element_by_xpath\u001b[0m\u001b[1;33m(\u001b[0m\u001b[1;34m\"//span[@class='WlYyy cacGK Wb']\"\u001b[0m\u001b[1;33m)\u001b[0m\u001b[1;33m.\u001b[0m\u001b[0mclick\u001b[0m\u001b[1;33m(\u001b[0m\u001b[1;33m)\u001b[0m\u001b[1;33m\u001b[0m\u001b[1;33m\u001b[0m\u001b[0m\n\u001b[0m\u001b[0;32m     10\u001b[0m \u001b[1;33m\u001b[0m\u001b[0m\n\u001b[0;32m     11\u001b[0m \u001b[1;33m\u001b[0m\u001b[0m\n",
      "\u001b[1;32mC:\\ProgramData\\Anaconda3\\lib\\site-packages\\selenium\\webdriver\\remote\\webelement.py\u001b[0m in \u001b[0;36mclick\u001b[1;34m(self)\u001b[0m\n\u001b[0;32m     78\u001b[0m     \u001b[1;32mdef\u001b[0m \u001b[0mclick\u001b[0m\u001b[1;33m(\u001b[0m\u001b[0mself\u001b[0m\u001b[1;33m)\u001b[0m\u001b[1;33m:\u001b[0m\u001b[1;33m\u001b[0m\u001b[1;33m\u001b[0m\u001b[0m\n\u001b[0;32m     79\u001b[0m         \u001b[1;34m\"\"\"Clicks the element.\"\"\"\u001b[0m\u001b[1;33m\u001b[0m\u001b[1;33m\u001b[0m\u001b[0m\n\u001b[1;32m---> 80\u001b[1;33m         \u001b[0mself\u001b[0m\u001b[1;33m.\u001b[0m\u001b[0m_execute\u001b[0m\u001b[1;33m(\u001b[0m\u001b[0mCommand\u001b[0m\u001b[1;33m.\u001b[0m\u001b[0mCLICK_ELEMENT\u001b[0m\u001b[1;33m)\u001b[0m\u001b[1;33m\u001b[0m\u001b[1;33m\u001b[0m\u001b[0m\n\u001b[0m\u001b[0;32m     81\u001b[0m \u001b[1;33m\u001b[0m\u001b[0m\n\u001b[0;32m     82\u001b[0m     \u001b[1;32mdef\u001b[0m \u001b[0msubmit\u001b[0m\u001b[1;33m(\u001b[0m\u001b[0mself\u001b[0m\u001b[1;33m)\u001b[0m\u001b[1;33m:\u001b[0m\u001b[1;33m\u001b[0m\u001b[1;33m\u001b[0m\u001b[0m\n",
      "\u001b[1;32mC:\\ProgramData\\Anaconda3\\lib\\site-packages\\selenium\\webdriver\\remote\\webelement.py\u001b[0m in \u001b[0;36m_execute\u001b[1;34m(self, command, params)\u001b[0m\n\u001b[0;32m    631\u001b[0m             \u001b[0mparams\u001b[0m \u001b[1;33m=\u001b[0m \u001b[1;33m{\u001b[0m\u001b[1;33m}\u001b[0m\u001b[1;33m\u001b[0m\u001b[1;33m\u001b[0m\u001b[0m\n\u001b[0;32m    632\u001b[0m         \u001b[0mparams\u001b[0m\u001b[1;33m[\u001b[0m\u001b[1;34m'id'\u001b[0m\u001b[1;33m]\u001b[0m \u001b[1;33m=\u001b[0m \u001b[0mself\u001b[0m\u001b[1;33m.\u001b[0m\u001b[0m_id\u001b[0m\u001b[1;33m\u001b[0m\u001b[1;33m\u001b[0m\u001b[0m\n\u001b[1;32m--> 633\u001b[1;33m         \u001b[1;32mreturn\u001b[0m \u001b[0mself\u001b[0m\u001b[1;33m.\u001b[0m\u001b[0m_parent\u001b[0m\u001b[1;33m.\u001b[0m\u001b[0mexecute\u001b[0m\u001b[1;33m(\u001b[0m\u001b[0mcommand\u001b[0m\u001b[1;33m,\u001b[0m \u001b[0mparams\u001b[0m\u001b[1;33m)\u001b[0m\u001b[1;33m\u001b[0m\u001b[1;33m\u001b[0m\u001b[0m\n\u001b[0m\u001b[0;32m    634\u001b[0m \u001b[1;33m\u001b[0m\u001b[0m\n\u001b[0;32m    635\u001b[0m     \u001b[1;32mdef\u001b[0m \u001b[0mfind_element\u001b[0m\u001b[1;33m(\u001b[0m\u001b[0mself\u001b[0m\u001b[1;33m,\u001b[0m \u001b[0mby\u001b[0m\u001b[1;33m=\u001b[0m\u001b[0mBy\u001b[0m\u001b[1;33m.\u001b[0m\u001b[0mID\u001b[0m\u001b[1;33m,\u001b[0m \u001b[0mvalue\u001b[0m\u001b[1;33m=\u001b[0m\u001b[1;32mNone\u001b[0m\u001b[1;33m)\u001b[0m\u001b[1;33m:\u001b[0m\u001b[1;33m\u001b[0m\u001b[1;33m\u001b[0m\u001b[0m\n",
      "\u001b[1;32mC:\\ProgramData\\Anaconda3\\lib\\site-packages\\selenium\\webdriver\\remote\\webdriver.py\u001b[0m in \u001b[0;36mexecute\u001b[1;34m(self, driver_command, params)\u001b[0m\n\u001b[0;32m    319\u001b[0m         \u001b[0mresponse\u001b[0m \u001b[1;33m=\u001b[0m \u001b[0mself\u001b[0m\u001b[1;33m.\u001b[0m\u001b[0mcommand_executor\u001b[0m\u001b[1;33m.\u001b[0m\u001b[0mexecute\u001b[0m\u001b[1;33m(\u001b[0m\u001b[0mdriver_command\u001b[0m\u001b[1;33m,\u001b[0m \u001b[0mparams\u001b[0m\u001b[1;33m)\u001b[0m\u001b[1;33m\u001b[0m\u001b[1;33m\u001b[0m\u001b[0m\n\u001b[0;32m    320\u001b[0m         \u001b[1;32mif\u001b[0m \u001b[0mresponse\u001b[0m\u001b[1;33m:\u001b[0m\u001b[1;33m\u001b[0m\u001b[1;33m\u001b[0m\u001b[0m\n\u001b[1;32m--> 321\u001b[1;33m             \u001b[0mself\u001b[0m\u001b[1;33m.\u001b[0m\u001b[0merror_handler\u001b[0m\u001b[1;33m.\u001b[0m\u001b[0mcheck_response\u001b[0m\u001b[1;33m(\u001b[0m\u001b[0mresponse\u001b[0m\u001b[1;33m)\u001b[0m\u001b[1;33m\u001b[0m\u001b[1;33m\u001b[0m\u001b[0m\n\u001b[0m\u001b[0;32m    322\u001b[0m             response['value'] = self._unwrap_value(\n\u001b[0;32m    323\u001b[0m                 response.get('value', None))\n",
      "\u001b[1;32mC:\\ProgramData\\Anaconda3\\lib\\site-packages\\selenium\\webdriver\\remote\\errorhandler.py\u001b[0m in \u001b[0;36mcheck_response\u001b[1;34m(self, response)\u001b[0m\n\u001b[0;32m    240\u001b[0m                 \u001b[0malert_text\u001b[0m \u001b[1;33m=\u001b[0m \u001b[0mvalue\u001b[0m\u001b[1;33m[\u001b[0m\u001b[1;34m'alert'\u001b[0m\u001b[1;33m]\u001b[0m\u001b[1;33m.\u001b[0m\u001b[0mget\u001b[0m\u001b[1;33m(\u001b[0m\u001b[1;34m'text'\u001b[0m\u001b[1;33m)\u001b[0m\u001b[1;33m\u001b[0m\u001b[1;33m\u001b[0m\u001b[0m\n\u001b[0;32m    241\u001b[0m             \u001b[1;32mraise\u001b[0m \u001b[0mexception_class\u001b[0m\u001b[1;33m(\u001b[0m\u001b[0mmessage\u001b[0m\u001b[1;33m,\u001b[0m \u001b[0mscreen\u001b[0m\u001b[1;33m,\u001b[0m \u001b[0mstacktrace\u001b[0m\u001b[1;33m,\u001b[0m \u001b[0malert_text\u001b[0m\u001b[1;33m)\u001b[0m\u001b[1;33m\u001b[0m\u001b[1;33m\u001b[0m\u001b[0m\n\u001b[1;32m--> 242\u001b[1;33m         \u001b[1;32mraise\u001b[0m \u001b[0mexception_class\u001b[0m\u001b[1;33m(\u001b[0m\u001b[0mmessage\u001b[0m\u001b[1;33m,\u001b[0m \u001b[0mscreen\u001b[0m\u001b[1;33m,\u001b[0m \u001b[0mstacktrace\u001b[0m\u001b[1;33m)\u001b[0m\u001b[1;33m\u001b[0m\u001b[1;33m\u001b[0m\u001b[0m\n\u001b[0m\u001b[0;32m    243\u001b[0m \u001b[1;33m\u001b[0m\u001b[0m\n\u001b[0;32m    244\u001b[0m     \u001b[1;32mdef\u001b[0m \u001b[0m_value_or_default\u001b[0m\u001b[1;33m(\u001b[0m\u001b[0mself\u001b[0m\u001b[1;33m,\u001b[0m \u001b[0mobj\u001b[0m\u001b[1;33m,\u001b[0m \u001b[0mkey\u001b[0m\u001b[1;33m,\u001b[0m \u001b[0mdefault\u001b[0m\u001b[1;33m)\u001b[0m\u001b[1;33m:\u001b[0m\u001b[1;33m\u001b[0m\u001b[1;33m\u001b[0m\u001b[0m\n",
      "\u001b[1;31mElementNotInteractableException\u001b[0m: Message: Element <span class=\"WlYyy cacGK Wb\"> could not be scrolled into view\n"
     ]
    }
   ],
   "source": [
    "# change the value inside the range to save more or less reviews\n",
    "for i in range(0,num_page):\n",
    "\n",
    "    # expand the review \n",
    "    time.sleep(2)\n",
    "    #driver.find_element_by_xpath(\"/html/body/div/main/div[1]/div[2]/div[2]/div/div/span/section[8]/div/div/span/section/section/div[1]/div/div[5]/div[6]/span/span/div[5]/div[2]\").click()\n",
    "    #driver.find_element_by_xpath(\".//button[(@class=\"bfQwA _G B- _S _T c G_ P0 ddFHE cnvzr\")]).click()\n",
    "    #driver.find_element_by_xpath(\".//span[contains(@class=\"WlYyy cacGK Wb\")]\").click()\n",
    "    driver.find_element_by_xpath(\"//span[@class='WlYyy cacGK Wb']\").click()\n",
    "    \n",
    "    \n",
    "    # Now we'll ask Selenium to look for elements in the page and save them to a variable. First lets define a  container that will hold all the reviews on the page. In a moment we'll parse these and save them:\n",
    "    container = driver.find_elements_by_xpath(\"//div[@data-reviewid]\")\n",
    "    \n",
    "    # Next we'll grab the date of the review:\n",
    "    #dates = driver.find_elements_by_xpath(\"/html/body/div/main/div[1]/div[2]/div[2]/div/div/span/section[8]/div/div/span/section/section/div[1]/div/div[5]/div[10]/span/span/div[7]/div[1]\")\n",
    "    dates = driver.find_elements_by_xpath(\".//div[@class='WlYyy diXIH cspKb bQCoY']\")\n",
    "    \n",
    "    # Now we'll look at the reviews in the container and parse them out\n",
    "    # A loop defined by the number of reviews\n",
    "    for j in range(len(container)):\n",
    "\n",
    "        rating = container[j].find_element_by_xpath(\"/html/body/div/main/div[1]/div[2]/div[2]/div/div/span/section[8]/div/div/span/section/section/div[1]/div/div[5]/div[10]/span/span/div[3]/svg\")\n",
    "        \n",
    "        title = container[j].find_element_by_xpath(\"/html/body/div/main/div[1]/div[2]/div[2]/div/div/span/section[8]/div/div/span/section/section/div[1]/div/div[5]/div[10]/span/span/a/span\").text\n",
    "        review = container[j].find_element_by_xpath(\"/html/body/div/main/div[1]/div[2]/div[2]/div/div/span/section[8]/div/div/span/section/section/div[1]/div/div[5]/div[10]/span/span/div[5]/div[1]/div/span\").text.replace(\"\\n\", \"  \")\n",
    "        visitdate = container[j].find_element_by_xpath(\"/html/body/div/main/div[1]/div[2]/div[2]/div/div/span/section[8]/div/div/span/section/section/div[1]/div/div[5]/div[10]/span/span/div[4]\")\n",
    "        date = \" \".join(dates[j].text.split(\" \")[-2:])\n",
    "        author= container[j].find_element_by_xpath(\"/html/body/div/main/div[1]/div[2]/div[2]/div/div/span/section[8]/div/div/span/section/section/div[1]/div/div[5]/div[10]/span/span/div[1]/div[1]/div[2]/span/a\")\n",
    "        \n",
    "        csvWriter.writerow([date, author, rating, title, review, visitdate]) \n",
    "        \n",
    "    # change the page \n",
    "    sleep(8)\n",
    "    #driver.find_elements(By.XPATH(\"./html/body/div/main/div[1]/div[2]/div[2]/div/div/span/section[8]/div/div/span/section/section/div[1]/div/div[5]/div[11]/div[1]/div/div[1]/div[2]/div/a\").click()\n",
    "    driver.find_element_by_xpath(\"/html/body/div/main/div[1]/div[2]/div[2]/div/div/span/section[8]/div/div/span/section/section/div[1]/div/div[5]/div[11]/div[1]/div/div[1]/div[2]/div/a\").click()\n",
    "    #driver.find_element_by_xpath('.//a[@class=\"dfuux f u j _T z _F _S ddFHE bVTsJ emPJr\"]').click()\n",
    "\n",
    "\n",
    "driver.close()\n"
   ]
  },
  {
   "cell_type": "code",
   "execution_count": null,
   "id": "da5902da",
   "metadata": {},
   "outputs": [],
   "source": []
  },
  {
   "cell_type": "code",
   "execution_count": null,
   "id": "f0702589",
   "metadata": {},
   "outputs": [],
   "source": []
  },
  {
   "cell_type": "code",
   "execution_count": null,
   "id": "8e07d4ca",
   "metadata": {},
   "outputs": [],
   "source": []
  }
 ],
 "metadata": {
  "kernelspec": {
   "display_name": "Python 3",
   "language": "python",
   "name": "python3"
  },
  "language_info": {
   "codemirror_mode": {
    "name": "ipython",
    "version": 3
   },
   "file_extension": ".py",
   "mimetype": "text/x-python",
   "name": "python",
   "nbconvert_exporter": "python",
   "pygments_lexer": "ipython3",
   "version": "3.8.11"
  }
 },
 "nbformat": 4,
 "nbformat_minor": 5
}
